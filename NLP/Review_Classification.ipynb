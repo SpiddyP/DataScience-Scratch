{
 "cells": [
  {
   "cell_type": "markdown",
   "metadata": {},
   "source": [
    "## NLP- Hotel Sentiment Classifier\n",
    "\n",
    "Based on Hotel Review data taken from Kaggle, I create a classifier to detect postive and negative sentiment of any given review. Detecting an overall sentiment value of a given review is useful for categorizing data and overal emotional takeaways that guest have after their stay at hotels. This would be useful in detecting situations where hotels continue to recieve negative labels, given the data, one could create a cluster analysis possible on an NER (named entity recognition) or tf-idf(term-frequency, inverse-document-frequency product). A potential cluster analysis on such metrics would help identify actual words to map reasons to poor performing hotels, identified by our data and model. Data is publicly available but primarly owned through Booking.com.\n",
    "\n",
    "Data is given to us, seperated into Positive and Negative categories. This gives us an innate binary sentiment label indicating whether a given text is expressing a positive or negative emotional value. With Spark NLP, we created and averaged Glove embeddings of reviews and fed this feature scalar value into a Spark ML Lib Logistic Regression pipeline, no additional hyper parameters were set. We reported our the given Review, our predicition, and the ground truth, label, columns below. \n",
    "\n",
    "Generally, word embeddings are fed into CNN or BiDirectional LSTM cell wHere the embeddings are acted on like time series data. Ideally, we would want to use BERT embeddings, but due to a bug in our current version an update is required to use these BERT embeddings.Word embeddings are discussed further in the Neural Net section where I plan on implementing Neural Net approaches to review detection.\n",
    "\n",
    "\n",
    "Results were still promising from the Averaged Glove embeddings.\n",
    "\n",
    "Addiontionally an exploration of the data can be found here: [European Hotel Reviews with R](https://www.kaggle.com/spencerpitts/european-hotel-reviews-r) \n",
    "## PySpark Results"
   ]
  },
  {
   "cell_type": "code",
   "execution_count": 1,
   "metadata": {},
   "outputs": [
    {
     "name": "stdout",
     "output_type": "stream",
     "text": [
      "                                         Review_Text  Label  Prediction\n",
      "0  1 I booked a deluxe room a couple with 6 month...      0         0.0\n",
      "1  1 Our biggest problem was related to the house...      0         0.0\n",
      "2                          10 min walking from metro      0         1.0\n",
      "3  11 am check out too early Central booking syst...      0         0.0\n",
      "4  15 min walk from St Pancreas Kings X station N...      1         1.0\n",
      "5  4 5 km to city centre room service woke us up ...      0         1.0\n",
      "6  5 minute from the city center kind and helpful...      1         1.0\n",
      "7  50 deposit for one night I thought was excessi...      0         0.0\n",
      "8                         A bit away from the center      0         0.0\n",
      "9                 A bit expensive and noisy at night      0         0.0\n"
     ]
    }
   ],
   "source": [
    "import pandas as pd\n",
    "import numpy as np\n",
    "import sklearn\n",
    "\n",
    "\n",
    "df= pd.read_csv(\"gs://ca-sbox-es-science-444/data/nlpTest/Hotel_Reviews_AverageGlove_Predictions/part-00000-4857de86-8edc-493d-a00e-52f067f08f5b-c000.csv\")\n",
    "df.columns= ['Review_Text','Label',  'Prediction']\n",
    "print(df.head(10))"
   ]
  },
  {
   "cell_type": "code",
   "execution_count": 2,
   "metadata": {},
   "outputs": [],
   "source": [
    "from sklearn.metrics import confusion_matrix\n",
    "\n",
    "tn, fp, fn, tp= confusion_matrix(df.Label, df.Prediction).ravel()"
   ]
  },
  {
   "cell_type": "code",
   "execution_count": 3,
   "metadata": {},
   "outputs": [],
   "source": [
    "from sklearn.metrics import f1_score, precision_score, recall_score, accuracy_score\n",
    "\n",
    "Acc= accuracy_score(df.Label, df.Prediction)\n",
    "Prec= precision_score(df.Label, df.Prediction)\n",
    "Recall= recall_score(df.Label, df.Prediction)\n",
    "TPR= Recall\n",
    "TNR= tn/(tn+fp)\n",
    "FPR= fp/(fp+tn)\n",
    "FNR= fn/(tp+fn)\n",
    "F1= f1_score(df.Label, df.Prediction)"
   ]
  },
  {
   "cell_type": "code",
   "execution_count": 4,
   "metadata": {},
   "outputs": [
    {
     "name": "stdout",
     "output_type": "stream",
     "text": [
      "+--------------------------------+\n",
      "| Accuracy: \t\t 0.865 \t |\n",
      "+--------------------------------+\n",
      "| Precision: \t\t 0.893 \t |\n",
      "+--------------------------------+\n",
      "| Recall: \t\t 0.869 \t |\n",
      "+--------------------------------+\n",
      "| True Positive Rate: \t 0.869 \t |\n",
      "+--------------------------------+\n",
      "| True Negative Rate: \t 0.860 \t |\n",
      "+--------------------------------+\n",
      "| False Positive Rate: \t 0.140 \t |\n",
      "+--------------------------------+\n",
      "| False Negative Rate: \t 0.131 \t |\n",
      "+--------------------------------+\n",
      "| F1 Score: \t\t 0.881 \t |\n",
      "+--------------------------------+\n",
      "\n",
      "\t\t                         Predictions\n",
      "\t\t+---------------+---------------+---------------+\n",
      "\t\t|\t\t|\t1\t|\t0\t|\n",
      "\t\t+---------------+---------------+---------------+\n",
      "Ground Truth\t|\t1\t|\t1000\t|\t151\t|\n",
      "\t\t+---------------+---------------+---------------+\n",
      "\t\t|\t0\t|\t120\t|\t736\t|\n",
      "\t\t+---------------+---------------+---------------+\n",
      "\n"
     ]
    }
   ],
   "source": [
    "print(\"+--------------------------------+\\n\"\n",
    "      \"| Accuracy: \\t\\t {:.3f} \\t |\\n\"\n",
    "      \"+--------------------------------+\\n\"\n",
    "      \"| Precision: \\t\\t {:.3f} \\t |\\n\"\n",
    "      \"+--------------------------------+\\n\"\n",
    "      \"| Recall: \\t\\t {:.3f} \\t |\\n\"\n",
    "      \"+--------------------------------+\\n\"\n",
    "      \"| True Positive Rate: \\t {:.3f} \\t |\\n\"\n",
    "      \"+--------------------------------+\\n\"\n",
    "      \"| True Negative Rate: \\t {:.3f} \\t |\\n\"\n",
    "      \"+--------------------------------+\\n\"\n",
    "      \"| False Positive Rate: \\t {:.3f} \\t |\\n\"\n",
    "      \"+--------------------------------+\\n\"\n",
    "      \"| False Negative Rate: \\t {:.3f} \\t |\\n\"\n",
    "      \"+--------------------------------+\\n\"\n",
    "      \"| F1 Score: \\t\\t {:.3f} \\t |\\n\"\n",
    "      \"+--------------------------------+\\n\"\n",
    "      .format(Acc, Prec, Recall, TPR, TNR, FPR, FNR, F1))\n",
    "\n",
    "\n",
    "print(\"\\t\\t                         Predictions\\n\"\n",
    "      \"\\t\\t+---------------+---------------+---------------+\\n\"\n",
    "      \"\\t\\t|\\t\\t|\\t1\\t|\\t0\\t|\\n\"\n",
    "      \"\\t\\t+---------------+---------------+---------------+\\n\"\n",
    "      \"Ground Truth\\t|\\t1\\t|\\t{0}\\t|\\t{1}\\t|\\n\"\n",
    "      \"\\t\\t+---------------+---------------+---------------+\\n\"\n",
    "      \"\\t\\t|\\t0\\t|\\t{2}\\t|\\t{3}\\t|\\n\"\n",
    "      \"\\t\\t+---------------+---------------+---------------+\\n\".format(tp,fn,fp, tn))"
   ]
  },
  {
   "cell_type": "markdown",
   "metadata": {},
   "source": [
    "*I would like to import ROC curve, but did not have time ...*"
   ]
  },
  {
   "cell_type": "markdown",
   "metadata": {},
   "source": [
    "## Classifying with Neural Nets "
   ]
  },
  {
   "cell_type": "markdown",
   "metadata": {},
   "source": [
    "This is our preferred approach, to take advantage of Word Embeddings either Glove, word2Vec, or BERT(recommended), we pipe our embeddings into Neural Nets which where we break down embeddings into almost 'time series' data, at least this is how the model will interpret these embeddings. \n",
    "\n",
    "Words occur in a time sequence, some of the most popular approaches to NLP, like conversing chat-bots, docment summarizers, and speech recognition perform most optimally when using recursive neural nets (RNNs) as well as BiDirectional Long Short Term Memory Cells (LSTMs) to 'remember' these embedding's vector representation from the 'time series' like word embeddings. \n",
    "\n",
    "These embedding vectors which are generally grouped into words, sentences, and documents quantitatively represent the syntactic menaning of how the review/ text/ words/ sentences/ paragraphs relate to the chosen label category, which in our case encaptures positive or negative emotion.  "
   ]
  },
  {
   "cell_type": "code",
   "execution_count": 5,
   "metadata": {},
   "outputs": [
    {
     "name": "stderr",
     "output_type": "stream",
     "text": [
      "Using TensorFlow backend.\n"
     ]
    },
    {
     "data": {
      "text/html": [
       "<div>\n",
       "<style scoped>\n",
       "    .dataframe tbody tr th:only-of-type {\n",
       "        vertical-align: middle;\n",
       "    }\n",
       "\n",
       "    .dataframe tbody tr th {\n",
       "        vertical-align: top;\n",
       "    }\n",
       "\n",
       "    .dataframe thead th {\n",
       "        text-align: right;\n",
       "    }\n",
       "</style>\n",
       "<table border=\"1\" class=\"dataframe\">\n",
       "  <thead>\n",
       "    <tr style=\"text-align: right;\">\n",
       "      <th></th>\n",
       "      <th>Review</th>\n",
       "      <th>embeddings</th>\n",
       "      <th>label</th>\n",
       "    </tr>\n",
       "  </thead>\n",
       "  <tbody>\n",
       "    <tr>\n",
       "      <th>0</th>\n",
       "      <td>Location was within walking distance to main ...</td>\n",
       "      <td>[[-0.15414, -0.44185, 0.67888, 0.6419100000000...</td>\n",
       "      <td>1</td>\n",
       "    </tr>\n",
       "    <tr>\n",
       "      <th>1</th>\n",
       "      <td>Superb Hotel Great Room Great Amenities and P...</td>\n",
       "      <td>[[0.028738, -0.15464, -0.15188000000000001, -0...</td>\n",
       "      <td>1</td>\n",
       "    </tr>\n",
       "  </tbody>\n",
       "</table>\n",
       "</div>"
      ],
      "text/plain": [
       "                                              Review  \\\n",
       "0   Location was within walking distance to main ...   \n",
       "1   Superb Hotel Great Room Great Amenities and P...   \n",
       "\n",
       "                                          embeddings  label  \n",
       "0  [[-0.15414, -0.44185, 0.67888, 0.6419100000000...      1  \n",
       "1  [[0.028738, -0.15464, -0.15188000000000001, -0...      1  "
      ]
     },
     "execution_count": 5,
     "metadata": {},
     "output_type": "execute_result"
    }
   ],
   "source": [
    "import tensorflow\n",
    "from tensorflow import keras\n",
    "from keras.preprocessing import sequence\n",
    "from keras.models import Sequential\n",
    "from keras.layers import Dense, Dropout, Activation, Embedding, LSTM, Conv1D, MaxPooling1D\n",
    "\n",
    "dfk= pd.read_json(\"gs://ca-sbox-es-science-444/data/nlpTest/Hotel_Reviews_Glove_JSON/part-00000-147e5a02-21ba-42cd-a8c4-69780ae574c3-c000.json\",lines= True)\n",
    "dfk.head(2)\n",
    "# :TODO:\n",
    "# bigquery --> Keras CNN/LSTM --> predictions "
   ]
  },
  {
   "cell_type": "code",
   "execution_count": 6,
   "metadata": {},
   "outputs": [
    {
     "name": "stdout",
     "output_type": "stream",
     "text": [
      "Length of first sentence: 8\n",
      "Length of each word embedding: 100\n"
     ]
    }
   ],
   "source": [
    "print('Length of first sentence:',len(dfk.iloc[1]['embeddings']))\n",
    "print('Length of each word embedding:',len(dfk.iloc[1]['embeddings'][0]))"
   ]
  },
  {
   "cell_type": "code",
   "execution_count": 7,
   "metadata": {},
   "outputs": [
    {
     "name": "stdout",
     "output_type": "stream",
     "text": [
      "Length of longest sentence: 169\n"
     ]
    }
   ],
   "source": [
    "max= np.max([len(x) for x in dfk.embeddings])\n",
    "        \n",
    "print('Length of longest sentence:',max)"
   ]
  },
  {
   "cell_type": "markdown",
   "metadata": {},
   "source": [
    "This means that for each row, padding (row token vectors + row padding vectors) = 169"
   ]
  },
  {
   "cell_type": "code",
   "execution_count": 8,
   "metadata": {},
   "outputs": [],
   "source": [
    "X= np.array(dfk.embeddings)\n",
    "y= np.array(dfk.label)"
   ]
  },
  {
   "cell_type": "code",
   "execution_count": 53,
   "metadata": {},
   "outputs": [
    {
     "data": {
      "text/plain": [
       "((10000,), (10000,))"
      ]
     },
     "execution_count": 53,
     "metadata": {},
     "output_type": "execute_result"
    }
   ],
   "source": [
    "X.shape, y.shape"
   ]
  },
  {
   "cell_type": "code",
   "execution_count": 10,
   "metadata": {},
   "outputs": [],
   "source": [
    "from sklearn.model_selection import train_test_split\n",
    "X_train, X_test, y_train, y_test= train_test_split(X, y, test_size= .2)"
   ]
  },
  {
   "cell_type": "code",
   "execution_count": 11,
   "metadata": {},
   "outputs": [],
   "source": [
    "X_train= sequence.pad_sequences(\n",
    "    np.array(X_train),\n",
    "    value= np.zeros(100),\n",
    "    padding='post',\n",
    "    maxlen=25\n",
    ")\n",
    "y_train= np.array(y_train).reshape(y_train.shape[0], 1)\n",
    "\n",
    "X_test= sequence.pad_sequences(\n",
    "    np.array(X_test),\n",
    "    value= np.zeros(100),\n",
    "    padding='post',\n",
    "    maxlen=25\n",
    ")\n",
    "y_test= np.array(y_test).reshape(y_test.shape[0], 1)\n",
    "\n",
    "# X_train= np.array([X_train]) \n",
    "# y_train= np.array([y_train])\n",
    "# X_test= np.array([X_test])\n",
    "# y_test= np.array([y_test])"
   ]
  },
  {
   "cell_type": "code",
   "execution_count": 12,
   "metadata": {},
   "outputs": [
    {
     "data": {
      "text/plain": [
       "(8000, 25, 100)"
      ]
     },
     "execution_count": 12,
     "metadata": {},
     "output_type": "execute_result"
    }
   ],
   "source": [
    "sequence.pad_sequences(\n",
    "    np.array(X_train),\n",
    "    value= np.zeros(100),\n",
    "    padding='post',\n",
    "    maxlen=25\n",
    ").shape"
   ]
  },
  {
   "cell_type": "code",
   "execution_count": 60,
   "metadata": {},
   "outputs": [
    {
     "name": "stdout",
     "output_type": "stream",
     "text": [
      "Vocab Size: 9461\n"
     ]
    }
   ],
   "source": [
    "top_words= len(np.unique(dfk.embeddings))\n",
    "embedding_vecor_length = 100\n",
    "max_review_length= 25\n",
    "epochs= 20\n",
    "batch_size= 30\n",
    "print('Vocab Size: {}'.format(top_words))"
   ]
  },
  {
   "cell_type": "code",
   "execution_count": 61,
   "metadata": {},
   "outputs": [],
   "source": [
    "model = Sequential()\n",
    "# model.add(Embedding(top_words, embedding_vecor_length, input_length=max_review_length))\n",
    "model.add(LSTM(units= 3, input_shape= (max_review_length, embedding_vecor_length)))\n",
    "model.add(Dense(1, activation='sigmoid'))"
   ]
  },
  {
   "cell_type": "code",
   "execution_count": 62,
   "metadata": {},
   "outputs": [
    {
     "name": "stdout",
     "output_type": "stream",
     "text": [
      "Model: \"sequential_10\"\n",
      "_________________________________________________________________\n",
      "Layer (type)                 Output Shape              Param #   \n",
      "=================================================================\n",
      "lstm_10 (LSTM)               (None, 3)                 1248      \n",
      "_________________________________________________________________\n",
      "dense_8 (Dense)              (None, 1)                 4         \n",
      "=================================================================\n",
      "Total params: 1,252\n",
      "Trainable params: 1,252\n",
      "Non-trainable params: 0\n",
      "_________________________________________________________________\n"
     ]
    }
   ],
   "source": [
    "model.summary()"
   ]
  },
  {
   "cell_type": "code",
   "execution_count": 63,
   "metadata": {},
   "outputs": [
    {
     "name": "stdout",
     "output_type": "stream",
     "text": [
      "Train on 7200 samples, validate on 800 samples\n",
      "Epoch 1/20\n",
      "7200/7200 [==============================] - 3s 378us/step - loss: 0.6844 - accuracy: 0.5678 - val_loss: 0.6529 - val_accuracy: 0.6400\n",
      "Epoch 2/20\n",
      "7200/7200 [==============================] - 2s 321us/step - loss: 0.5601 - accuracy: 0.7782 - val_loss: 0.5157 - val_accuracy: 0.7887\n",
      "Epoch 3/20\n",
      "7200/7200 [==============================] - 2s 310us/step - loss: 0.4696 - accuracy: 0.8144 - val_loss: 0.4863 - val_accuracy: 0.7900\n",
      "Epoch 4/20\n",
      "7200/7200 [==============================] - 2s 312us/step - loss: 0.4463 - accuracy: 0.8272 - val_loss: 0.4630 - val_accuracy: 0.8075\n",
      "Epoch 5/20\n",
      "7200/7200 [==============================] - 2s 311us/step - loss: 0.4228 - accuracy: 0.8367 - val_loss: 0.4600 - val_accuracy: 0.8112\n",
      "Epoch 6/20\n",
      "7200/7200 [==============================] - 2s 308us/step - loss: 0.4098 - accuracy: 0.8408 - val_loss: 0.4447 - val_accuracy: 0.8225\n",
      "Epoch 7/20\n",
      "7200/7200 [==============================] - 2s 311us/step - loss: 0.3959 - accuracy: 0.8512 - val_loss: 0.4534 - val_accuracy: 0.8150\n",
      "Epoch 8/20\n",
      "7200/7200 [==============================] - 2s 309us/step - loss: 0.3846 - accuracy: 0.8558 - val_loss: 0.4294 - val_accuracy: 0.8238\n",
      "Epoch 9/20\n",
      "7200/7200 [==============================] - 2s 307us/step - loss: 0.3721 - accuracy: 0.8578 - val_loss: 0.4109 - val_accuracy: 0.8375\n",
      "Epoch 10/20\n",
      "7200/7200 [==============================] - 2s 318us/step - loss: 0.3605 - accuracy: 0.8653 - val_loss: 0.4076 - val_accuracy: 0.8325\n",
      "Epoch 11/20\n",
      "7200/7200 [==============================] - 2s 319us/step - loss: 0.3503 - accuracy: 0.8701 - val_loss: 0.4043 - val_accuracy: 0.8400\n",
      "Epoch 12/20\n",
      "7200/7200 [==============================] - 2s 313us/step - loss: 0.3428 - accuracy: 0.8740 - val_loss: 0.4064 - val_accuracy: 0.8325\n",
      "Epoch 13/20\n",
      "7200/7200 [==============================] - 2s 319us/step - loss: 0.3378 - accuracy: 0.8746 - val_loss: 0.3925 - val_accuracy: 0.8425\n",
      "Epoch 14/20\n",
      "7200/7200 [==============================] - 2s 316us/step - loss: 0.3293 - accuracy: 0.8785 - val_loss: 0.3842 - val_accuracy: 0.8462\n",
      "Epoch 15/20\n",
      "7200/7200 [==============================] - 2s 304us/step - loss: 0.3245 - accuracy: 0.8796 - val_loss: 0.3882 - val_accuracy: 0.8462\n",
      "Epoch 16/20\n",
      "7200/7200 [==============================] - 2s 343us/step - loss: 0.3172 - accuracy: 0.8839 - val_loss: 0.3772 - val_accuracy: 0.8413\n",
      "Epoch 17/20\n",
      "7200/7200 [==============================] - 2s 308us/step - loss: 0.3090 - accuracy: 0.8836 - val_loss: 0.3761 - val_accuracy: 0.8400\n",
      "Epoch 18/20\n",
      "7200/7200 [==============================] - 2s 305us/step - loss: 0.3027 - accuracy: 0.8882 - val_loss: 0.3780 - val_accuracy: 0.8475\n",
      "Epoch 19/20\n",
      "7200/7200 [==============================] - 2s 302us/step - loss: 0.2976 - accuracy: 0.8915 - val_loss: 0.3739 - val_accuracy: 0.8425\n",
      "Epoch 20/20\n",
      "7200/7200 [==============================] - 2s 309us/step - loss: 0.2941 - accuracy: 0.8889 - val_loss: 0.3690 - val_accuracy: 0.8462\n"
     ]
    }
   ],
   "source": [
    "model.compile(loss='binary_crossentropy',\n",
    "              optimizer='adam',\n",
    "              metrics=['accuracy'])\n",
    "\n",
    "history= model.fit(X_train, \n",
    "          y_train,\n",
    "          batch_size=batch_size,\n",
    "          validation_split= .1,\n",
    "          epochs=epochs)"
   ]
  },
  {
   "cell_type": "code",
   "execution_count": 64,
   "metadata": {},
   "outputs": [
    {
     "name": "stdout",
     "output_type": "stream",
     "text": [
      "2000/2000 [==============================] - 0s 89us/step\n"
     ]
    }
   ],
   "source": [
    "preds = model.evaluate(X_test, y_test, batch_size=batch_size)\n",
    "# print('Test score: {}\\nTest accuracy: {}'.format(score, acc))"
   ]
  },
  {
   "cell_type": "code",
   "execution_count": 65,
   "metadata": {},
   "outputs": [
    {
     "data": {
      "image/png": "[encoded data removed]",
      "text/plain": [
       "<Figure size 432x288 with 1 Axes>"
      ]
     },
     "metadata": {
      "needs_background": "light"
     },
     "output_type": "display_data"
    }
   ],
   "source": [
    "import matplotlib.pyplot as plt\n",
    "\n",
    "loss = history.history['loss']\n",
    "val_loss = history.history['val_loss']\n",
    "epochs = range(1, len(loss) + 1)\n",
    "plt.plot(epochs, loss, 'y', label='Training loss')\n",
    "plt.plot(epochs, val_loss, 'r', label='Validation loss')\n",
    "plt.title('Training and validation loss')\n",
    "plt.xlabel('Epochs')\n",
    "plt.ylabel('Loss')\n",
    "plt.legend()\n",
    "plt.show()"
   ]
  },
  {
   "cell_type": "code",
   "execution_count": 66,
   "metadata": {},
   "outputs": [
    {
     "data": {
      "image/png": "[encoded data removed]",
      "text/plain": [
       "<Figure size 432x288 with 1 Axes>"
      ]
     },
     "metadata": {
      "needs_background": "light"
     },
     "output_type": "display_data"
    }
   ],
   "source": [
    "acc = history.history['accuracy']\n",
    "val_acc = history.history['val_accuracy']\n",
    "plt.plot(epochs, acc, 'y', label='Training acc')\n",
    "plt.plot(epochs, val_acc, 'r', label='Validation acc')\n",
    "plt.title('Training and validation accuracy')\n",
    "plt.xlabel('Epochs')\n",
    "plt.ylabel('Accuracy')\n",
    "plt.legend()\n",
    "plt.show()"
   ]
  },
  {
   "cell_type": "code",
   "execution_count": 67,
   "metadata": {},
   "outputs": [
    {
     "data": {
      "text/plain": [
       "[0, 0, 1, 0, 0, 1, 0, 1, 1, 1]"
      ]
     },
     "execution_count": 67,
     "metadata": {},
     "output_type": "execute_result"
    }
   ],
   "source": [
    "probs= model.predict_proba(X_test).reshape(-1)\n",
    "preds= [1 if x > .5 else 0 for x in probs]\n",
    "preds[0:10]"
   ]
  },
  {
   "cell_type": "code",
   "execution_count": 68,
   "metadata": {},
   "outputs": [
    {
     "data": {
      "image/png": "[encoded data removed]",
      "text/plain": [
       "<Figure size 432x288 with 1 Axes>"
      ]
     },
     "metadata": {
      "needs_background": "light"
     },
     "output_type": "display_data"
    }
   ],
   "source": [
    "from sklearn.metrics import roc_curve\n",
    "\n",
    "fpr, tpr, thresholds = roc_curve(y_test, probs) \n",
    "plt.plot(fpr, tpr, color='orange', label='ROC')\n",
    "plt.plot([0, 1], [0, 1], color='darkblue', linestyle='--')\n",
    "plt.xlabel('False Positive Rate')\n",
    "plt.ylabel('True Positive Rate')\n",
    "plt.title('Receiver Operating Characteristic (ROC) Curve')\n",
    "plt.legend()\n",
    "plt.show()"
   ]
  },
  {
   "cell_type": "code",
   "execution_count": 69,
   "metadata": {},
   "outputs": [],
   "source": [
    "tn, fp, fn, tp= confusion_matrix(y_test, preds).ravel()"
   ]
  },
  {
   "cell_type": "code",
   "execution_count": 70,
   "metadata": {},
   "outputs": [],
   "source": [
    "Acc= accuracy_score(y_test, preds)\n",
    "Prec= precision_score(y_test, preds)\n",
    "Recall= recall_score(y_test, preds)\n",
    "TPR= Recall\n",
    "TNR= tn/(tn+fp)\n",
    "FPR= fp/(fp+tn)\n",
    "FNR= fn/(tp+fn)\n",
    "F1= f1_score(y_test, preds)"
   ]
  },
  {
   "cell_type": "code",
   "execution_count": 71,
   "metadata": {},
   "outputs": [
    {
     "name": "stdout",
     "output_type": "stream",
     "text": [
      "+--------------------------------+\n",
      "| Accuracy: \t\t 0.847 \t |\n",
      "+--------------------------------+\n",
      "| Precision: \t\t 0.862 \t |\n",
      "+--------------------------------+\n",
      "| Recall: \t\t 0.856 \t |\n",
      "+--------------------------------+\n",
      "| True Positive Rate: \t 0.856 \t |\n",
      "+--------------------------------+\n",
      "| True Negative Rate: \t 0.834 \t |\n",
      "+--------------------------------+\n",
      "| False Positive Rate: \t 0.166 \t |\n",
      "+--------------------------------+\n",
      "| False Negative Rate: \t 0.144 \t |\n",
      "+--------------------------------+\n",
      "| F1 Score: \t\t 0.859 \t |\n",
      "+--------------------------------+\n",
      "\n",
      "\t\t                         Predictions\n",
      "\t\t+---------------+---------------+---------------+\n",
      "\t\t|\t\t|\t1\t|\t0\t|\n",
      "\t\t+---------------+---------------+---------------+\n",
      "Ground Truth\t|\t1\t|\t937\t|\t157\t|\n",
      "\t\t+---------------+---------------+---------------+\n",
      "\t\t|\t0\t|\t150\t|\t756\t|\n",
      "\t\t+---------------+---------------+---------------+\n",
      "\n"
     ]
    }
   ],
   "source": [
    "print(\"+--------------------------------+\\n\"\n",
    "      \"| Accuracy: \\t\\t {:.3f} \\t |\\n\"\n",
    "      \"+--------------------------------+\\n\"\n",
    "      \"| Precision: \\t\\t {:.3f} \\t |\\n\"\n",
    "      \"+--------------------------------+\\n\"\n",
    "      \"| Recall: \\t\\t {:.3f} \\t |\\n\"\n",
    "      \"+--------------------------------+\\n\"\n",
    "      \"| True Positive Rate: \\t {:.3f} \\t |\\n\"\n",
    "      \"+--------------------------------+\\n\"\n",
    "      \"| True Negative Rate: \\t {:.3f} \\t |\\n\"\n",
    "      \"+--------------------------------+\\n\"\n",
    "      \"| False Positive Rate: \\t {:.3f} \\t |\\n\"\n",
    "      \"+--------------------------------+\\n\"\n",
    "      \"| False Negative Rate: \\t {:.3f} \\t |\\n\"\n",
    "      \"+--------------------------------+\\n\"\n",
    "      \"| F1 Score: \\t\\t {:.3f} \\t |\\n\"\n",
    "      \"+--------------------------------+\\n\"\n",
    "      .format(Acc, Prec, Recall, TPR, TNR, FPR, FNR, F1))\n",
    "print(\"\\t\\t                         Predictions\\n\"\n",
    "      \"\\t\\t+---------------+---------------+---------------+\\n\"\n",
    "      \"\\t\\t|\\t\\t|\\t1\\t|\\t0\\t|\\n\"\n",
    "      \"\\t\\t+---------------+---------------+---------------+\\n\"\n",
    "      \"Ground Truth\\t|\\t1\\t|\\t{0}\\t|\\t{1}\\t|\\n\"\n",
    "      \"\\t\\t+---------------+---------------+---------------+\\n\"\n",
    "      \"\\t\\t|\\t0\\t|\\t{2}\\t|\\t{3}\\t|\\n\"\n",
    "      \"\\t\\t+---------------+---------------+---------------+\\n\".format(tp,fn,fp, tn))"
   ]
  },
  {
   "cell_type": "code",
   "execution_count": null,
   "metadata": {},
   "outputs": [],
   "source": []
  }
 ],
 "metadata": {
  "kernelspec": {
   "display_name": "Python 3",
   "language": "python",
   "name": "python3"
  },
  "language_info": {
   "codemirror_mode": {
    "name": "ipython",
    "version": 3
   },
   "file_extension": ".py",
   "mimetype": "text/x-python",
   "name": "python",
   "nbconvert_exporter": "python",
   "pygments_lexer": "ipython3",
   "version": "3.7.6"
  }
 },
 "nbformat": 4,
 "nbformat_minor": 4
}
